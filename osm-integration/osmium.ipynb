{
 "cells": [
  {
   "cell_type": "code",
   "execution_count": 1,
   "id": "solved-architecture",
   "metadata": {
    "ExecuteTime": {
     "end_time": "2021-03-13T23:55:16.817791Z",
     "start_time": "2021-03-13T23:55:16.744636Z"
    }
   },
   "outputs": [],
   "source": [
    "import osmium\n",
    "import sys\n",
    "from neo4j import GraphDatabase, basic_auth, unit_of_work\n",
    "from copy import deepcopy\n",
    "from math import radians, cos, sin, asin, sqrt\n",
    "import os\n",
    "from dotenv import load_dotenv"
   ]
  },
  {
   "cell_type": "code",
   "execution_count": 2,
   "id": "earlier-robin",
   "metadata": {
    "ExecuteTime": {
     "end_time": "2021-03-13T23:55:16.820924Z",
     "start_time": "2021-03-13T23:55:16.819104Z"
    }
   },
   "outputs": [],
   "source": [
    "url = 'http://download.geofabrik.de/europe/monaco-latest.osm.pbf'\n",
    "# url = 'sofia_bulgaria.osm.pbf'"
   ]
  },
  {
   "cell_type": "code",
   "execution_count": 3,
   "id": "binary-routine",
   "metadata": {
    "ExecuteTime": {
     "end_time": "2021-03-13T23:55:16.828941Z",
     "start_time": "2021-03-13T23:55:16.822299Z"
    }
   },
   "outputs": [],
   "source": [
    "load_dotenv()\n",
    "driver = GraphDatabase.driver(os.getenv('CON_STRING'),\n",
    "                              auth=basic_auth(os.getenv('CON_USER'), os.getenv('CON_PASS')))"
   ]
  },
  {
   "cell_type": "code",
   "execution_count": 4,
   "id": "overhead-fashion",
   "metadata": {
    "ExecuteTime": {
     "end_time": "2021-03-13T23:55:16.832012Z",
     "start_time": "2021-03-13T23:55:16.829842Z"
    }
   },
   "outputs": [],
   "source": [
    "class GraphNode:\n",
    "    def __init__(self, node_id, location):\n",
    "        self.node_id = deepcopy(node_id)\n",
    "        self.long, self.lat  = map(float, deepcopy(str(location)).split('/'))\n",
    "\n",
    "    def __repr__(self):\n",
    "        return f'{{node_id: {self.node_id}, lat: {self.lat}, long: {self.long}}}'"
   ]
  },
  {
   "cell_type": "code",
   "execution_count": 5,
   "id": "convertible-sunglasses",
   "metadata": {
    "ExecuteTime": {
     "end_time": "2021-03-13T23:55:16.835019Z",
     "start_time": "2021-03-13T23:55:16.832844Z"
    }
   },
   "outputs": [],
   "source": [
    "class GraphEdge:\n",
    "    def __init__(self, start_node_id, end_node_id, distance, rating):\n",
    "        self.start_node_id = start_node_id\n",
    "        self.end_node_id = end_node_id\n",
    "        self.distance = distance\n",
    "        self.rating = rating\n",
    "        self.cost = distance / rating\n",
    "\n",
    "    def __repr__(self):\n",
    "        return f'{{start_node_id: {self.start_node_id}, end_node_id: {self.end_node_id}, distance: {self.distance}, rating: {self.rating}, cost: {self.cost}}}'"
   ]
  },
  {
   "cell_type": "code",
   "execution_count": 6,
   "id": "usual-active",
   "metadata": {
    "ExecuteTime": {
     "end_time": "2021-03-13T23:55:16.838140Z",
     "start_time": "2021-03-13T23:55:16.836340Z"
    }
   },
   "outputs": [],
   "source": [
    "def split_list_to_batches(initial_list, batch_size = 4000):\n",
    "    for i in range(0, len(initial_list), batch_size):\n",
    "        yield initial_list[i:i + batch_size]"
   ]
  },
  {
   "cell_type": "code",
   "execution_count": 7,
   "id": "cleared-norwegian",
   "metadata": {
    "ExecuteTime": {
     "end_time": "2021-03-13T23:55:16.842203Z",
     "start_time": "2021-03-13T23:55:16.839296Z"
    }
   },
   "outputs": [],
   "source": [
    "\n",
    "def haversine(node_a, node_b):\n",
    "    \"\"\"\n",
    "    Calculate the great circle distance between two points \n",
    "    on the earth (specified in decimal degrees)\n",
    "    \"\"\"\n",
    "    # convert decimal degrees to radians \n",
    "    lon1, lat1, lon2, lat2 = map(radians, [node_a.long, node_a.lat, node_b.long, node_b.lat])\n",
    "\n",
    "    # haversine formula \n",
    "    dlon = lon2 - lon1 \n",
    "    dlat = lat2 - lat1 \n",
    "    a = sin(dlat/2)**2 + cos(lat1) * cos(lat2) * sin(dlon/2)**2\n",
    "    c = 2 * asin(sqrt(a)) \n",
    "    r = 6371 # Radius of earth in kilometers. Use 3956 for miles\n",
    "    return c * r"
   ]
  },
  {
   "cell_type": "code",
   "execution_count": 8,
   "id": "executive-sport",
   "metadata": {
    "ExecuteTime": {
     "end_time": "2021-03-13T23:55:16.847109Z",
     "start_time": "2021-03-13T23:55:16.843307Z"
    }
   },
   "outputs": [],
   "source": [
    "class FileHandler(osmium.SimpleHandler):\n",
    "    def __init__(self, neoHandler):\n",
    "        super(FileHandler, self).__init__()\n",
    "        self.neoHandler = neoHandler\n",
    "\n",
    "    def node(self, n):\n",
    "        node = GraphNode(n.id, n.location)\n",
    "        self.neoHandler.add_node(node)\n",
    "\n",
    "    def way(self, w):\n",
    "        if w.nodes[0].ref == w.nodes[-1].ref:\n",
    "            return\n",
    "        for i in range(len(w.nodes)-1):\n",
    "            start = GraphNode(w.nodes[i].ref, w.nodes[i].location)\n",
    "            end = GraphNode(w.nodes[i+1].ref, w.nodes[i+1].location)\n",
    "            distance = haversine(start, end)\n",
    "            edge = GraphEdge(start.node_id, end.node_id, distance, 4)\n",
    "            self.neoHandler.add_edge(edge)"
   ]
  },
  {
   "cell_type": "code",
   "execution_count": 9,
   "id": "written-token",
   "metadata": {
    "ExecuteTime": {
     "end_time": "2021-03-13T23:55:16.850407Z",
     "start_time": "2021-03-13T23:55:16.848010Z"
    }
   },
   "outputs": [],
   "source": [
    "def batch_nodes(session, nodes, batch_size=10000):\n",
    "    for i, batch in enumerate(split_list_to_batches(nodes, batch_size)):\n",
    "        with session.begin_transaction() as tx:\n",
    "            print(f'Start node transaction {i}')\n",
    "            # batch_string_list = ','.join(map(lambda x: str(x), batch))\n",
    "            tx.run(f'''\n",
    "                FOREACH (\n",
    "                    node IN {batch} |\n",
    "                    CREATE (\n",
    "                        :Node{{\n",
    "                            node_id:node.node_id,\n",
    "                            lat:node.lat,\n",
    "                            long:node.long\n",
    "                        }}\n",
    "                    )\n",
    "                )\n",
    "            ''')\n",
    "            tx.commit()\n",
    "            print(f'Close node transaction {i}')"
   ]
  },
  {
   "cell_type": "code",
   "execution_count": 10,
   "id": "loving-train",
   "metadata": {
    "ExecuteTime": {
     "end_time": "2021-03-13T23:55:16.853714Z",
     "start_time": "2021-03-13T23:55:16.851418Z"
    }
   },
   "outputs": [],
   "source": [
    "def batch_edges(session, edges, batch_size=100):\n",
    "    for i, batch in enumerate(split_list_to_batches(edges, batch_size)):\n",
    "        \n",
    "        with session.begin_transaction() as tx:\n",
    "            print(f'Start edge transaction {i}')\n",
    "            # batch_string_list = ','.join(map(lambda x: str(x), batch))\n",
    "            tx.run(f'''\n",
    "                UNWIND {str(batch)} as edge\n",
    "                MATCH\n",
    "                    (a: Node{{\n",
    "                        node_id: edge.start_node_id\n",
    "                    }}),\n",
    "                    (b: Node{{\n",
    "                        node_id: edge.end_node_id\n",
    "                    }})\n",
    "                CREATE (a)-[r:Route {{\n",
    "                    distance: edge.distance,\n",
    "                    rating: edge.rating,\n",
    "                    cost: edge.cost\n",
    "                }}]->(b)\n",
    "            ''')\n",
    "            tx.commit()\n",
    "            print(f'Close edge transaction {i}')"
   ]
  },
  {
   "cell_type": "code",
   "execution_count": 11,
   "id": "chinese-activity",
   "metadata": {
    "ExecuteTime": {
     "end_time": "2021-03-13T23:55:16.857654Z",
     "start_time": "2021-03-13T23:55:16.854559Z"
    }
   },
   "outputs": [],
   "source": [
    "class Neo4jHandler():\n",
    "    def __init__(self):\n",
    "        self.driver = driver\n",
    "        self.nodes = []\n",
    "        self.edges = []\n",
    "\n",
    "    def add_node(self, node):\n",
    "        self.nodes.append(node)\n",
    "\n",
    "    def add_edge(self, edge):\n",
    "        self.edges.append(edge)\n",
    "\n",
    "    def create_objects(self):\n",
    "        with self.driver.session() as session:\n",
    "            batch_nodes(session, self.nodes)\n",
    "            batch_edges(session, self.edges)\n",
    "\n",
    "    def close(self):\n",
    "        self.driver.close()"
   ]
  },
  {
   "cell_type": "code",
   "execution_count": 12,
   "id": "mediterranean-niger",
   "metadata": {
    "ExecuteTime": {
     "end_time": "2021-03-13T23:55:16.890446Z",
     "start_time": "2021-03-13T23:55:16.858642Z"
    },
    "tags": []
   },
   "outputs": [],
   "source": [
    "with driver.session() as session:\n",
    "    session.run('MATCH (n) DETACH DELETE n')"
   ]
  },
  {
   "cell_type": "code",
   "execution_count": null,
   "id": "stunning-duplicate",
   "metadata": {
    "ExecuteTime": {
     "start_time": "2021-03-13T23:55:16.754Z"
    },
    "scrolled": true,
    "tags": []
   },
   "outputs": [
    {
     "name": "stdout",
     "output_type": "stream",
     "text": [
      "Nodes: 25311\n",
      "Edges: 12430\n",
      "Start node transaction 0\n",
      "Close node transaction 0\n",
      "Start node transaction 1\n",
      "Close node transaction 1\n",
      "Start node transaction 2\n",
      "Close node transaction 2\n",
      "Start edge transaction 0\n",
      "Close edge transaction 0\n",
      "Start edge transaction 1\n",
      "Close edge transaction 1\n",
      "Start edge transaction 2\n",
      "Close edge transaction 2\n",
      "Start edge transaction 3\n",
      "Close edge transaction 3\n",
      "Start edge transaction 4\n",
      "Close edge transaction 4\n",
      "Start edge transaction 5\n",
      "Close edge transaction 5\n",
      "Start edge transaction 6\n",
      "Close edge transaction 6\n",
      "Start edge transaction 7\n",
      "Close edge transaction 7\n",
      "Start edge transaction 8\n",
      "Close edge transaction 8\n",
      "Start edge transaction 9\n",
      "Close edge transaction 9\n",
      "Start edge transaction 10\n",
      "Close edge transaction 10\n",
      "Start edge transaction 11\n",
      "Close edge transaction 11\n",
      "Start edge transaction 12\n",
      "Close edge transaction 12\n",
      "Start edge transaction 13\n",
      "Close edge transaction 13\n",
      "Start edge transaction 14\n",
      "Close edge transaction 14\n",
      "Start edge transaction 15\n",
      "Close edge transaction 15\n",
      "Start edge transaction 16\n",
      "Close edge transaction 16\n",
      "Start edge transaction 17\n",
      "Close edge transaction 17\n",
      "Start edge transaction 18\n",
      "Close edge transaction 18\n",
      "Start edge transaction 19\n",
      "Close edge transaction 19\n",
      "Start edge transaction 20\n",
      "Close edge transaction 20\n",
      "Start edge transaction 21\n",
      "Close edge transaction 21\n",
      "Start edge transaction 22\n",
      "Close edge transaction 22\n",
      "Start edge transaction 23\n",
      "Close edge transaction 23\n",
      "Start edge transaction 24\n",
      "Close edge transaction 24\n",
      "Start edge transaction 25\n",
      "Close edge transaction 25\n",
      "Start edge transaction 26\n",
      "Close edge transaction 26\n",
      "Start edge transaction 27\n",
      "Close edge transaction 27\n",
      "Start edge transaction 28\n",
      "Close edge transaction 28\n",
      "Start edge transaction 29\n",
      "Close edge transaction 29\n",
      "Start edge transaction 30\n",
      "Close edge transaction 30\n",
      "Start edge transaction 31\n",
      "Close edge transaction 31\n",
      "Start edge transaction 32\n",
      "Close edge transaction 32\n",
      "Start edge transaction 33\n",
      "Close edge transaction 33\n",
      "Start edge transaction 34\n",
      "Close edge transaction 34\n",
      "Start edge transaction 35\n",
      "Close edge transaction 35\n",
      "Start edge transaction 36\n",
      "Close edge transaction 36\n",
      "Start edge transaction 37\n",
      "Close edge transaction 37\n",
      "Start edge transaction 38\n",
      "Close edge transaction 38\n",
      "Start edge transaction 39\n",
      "Close edge transaction 39\n",
      "Start edge transaction 40\n",
      "Close edge transaction 40\n",
      "Start edge transaction 41\n",
      "Close edge transaction 41\n",
      "Start edge transaction 42\n",
      "Close edge transaction 42\n",
      "Start edge transaction 43\n",
      "Close edge transaction 43\n",
      "Start edge transaction 44\n",
      "Close edge transaction 44\n",
      "Start edge transaction 45\n",
      "Close edge transaction 45\n",
      "Start edge transaction 46\n",
      "Close edge transaction 46\n",
      "Start edge transaction 47\n",
      "Close edge transaction 47\n",
      "Start edge transaction 48\n",
      "Close edge transaction 48\n",
      "Start edge transaction 49\n",
      "Close edge transaction 49\n",
      "Start edge transaction 50\n",
      "Close edge transaction 50\n",
      "Start edge transaction 51\n",
      "Close edge transaction 51\n",
      "Start edge transaction 52\n"
     ]
    }
   ],
   "source": [
    "%%time\n",
    "neo_handler = Neo4jHandler()\n",
    "h = FileHandler(neo_handler)\n",
    "\n",
    "h.apply_file(url, locations=True)\n",
    "print(f'Nodes: {len(neo_handler.nodes)}')\n",
    "print(f'Edges: {len(neo_handler.edges)}')\n",
    "\n",
    "neo_handler.create_objects()\n",
    "neo_handler.close()\n",
    "print('finished')"
   ]
  },
  {
   "cell_type": "code",
   "execution_count": null,
   "id": "advance-clerk",
   "metadata": {},
   "outputs": [],
   "source": []
  }
 ],
 "metadata": {
  "kernelspec": {
   "display_name": "Python 3",
   "language": "python",
   "name": "python3"
  },
  "language_info": {
   "codemirror_mode": {
    "name": "ipython",
    "version": 3
   },
   "file_extension": ".py",
   "mimetype": "text/x-python",
   "name": "python",
   "nbconvert_exporter": "python",
   "pygments_lexer": "ipython3",
   "version": "3.9.2"
  }
 },
 "nbformat": 4,
 "nbformat_minor": 5
}
