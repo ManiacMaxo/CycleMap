{
 "cells": [
  {
   "cell_type": "code",
   "execution_count": 1,
   "id": "solved-architecture",
   "metadata": {},
   "outputs": [],
   "source": [
    "import osmium\n",
    "import sys\n",
    "from neo4j import GraphDatabase, basic_auth, unit_of_work\n",
    "from copy import deepcopy"
   ]
  },
  {
   "cell_type": "code",
   "execution_count": 2,
   "id": "earlier-robin",
   "metadata": {},
   "outputs": [],
   "source": [
    "url = 'http://download.geofabrik.de/europe/monaco-latest.osm.pbf'"
   ]
  },
  {
   "cell_type": "code",
   "execution_count": 3,
   "id": "overhead-fashion",
   "metadata": {},
   "outputs": [],
   "source": [
    "class GraphNode:\n",
    "\n",
    "    def __init__(self, node_id, lat, long):\n",
    "        self.node_id = node_id\n",
    "        self.lat = lat\n",
    "        self.long = long\n",
    "\n",
    "    def __repr__(self):\n",
    "        return f'{{node_id: {self.node_id}, lat: {self.lat}, long: {self.long}}}'"
   ]
  },
  {
   "cell_type": "code",
   "execution_count": 4,
   "id": "convertible-sunglasses",
   "metadata": {},
   "outputs": [],
   "source": [
    "class GraphEdge:\n",
    "\n",
    "    def __init__(self, start_node_id, end_node_id, distance, rating):\n",
    "        self.start_node_id = start_node_id\n",
    "        self.end_node_id = end_node_id\n",
    "        self.distance = distance\n",
    "        self.rating = rating"
   ]
  },
  {
   "cell_type": "code",
   "execution_count": 5,
   "id": "chinese-activity",
   "metadata": {},
   "outputs": [],
   "source": [
    "class Neo4jHandler():\n",
    "    \n",
    "    def __init__(self):\n",
    "        self.driver = GraphDatabase.driver(\n",
    "            \"bolt://54.167.190.221:7687\",\n",
    "            auth=basic_auth(\"neo4j\", \"release-shows-breads\"))\n",
    "        self.nodes = []\n",
    "        self.edges = []\n",
    "        \n",
    "    def add_node(self, node):\n",
    "        self.nodes.append(node)\n",
    "\n",
    "    def add_edge(self, edge):\n",
    "        self.edges.append(edge)\n",
    "\n",
    "    def create_objects(self):\n",
    "        with self.driver.session() as session:\n",
    "            batch = []\n",
    "            for i, node in enumerate(self.nodes):\n",
    "                if i % 2500 == 0 and len(batch) > 0:\n",
    "                    with session.begin_transaction() as tx:\n",
    "                        tx.run(f'''FOREACH (node IN [{','.join(map(lambda x: str(x), batch))}]|\n",
    "                               CREATE ({{node_id:node.node_id,lat:node.lat,long:node.long}}))''')\n",
    "                        tx.commit()\n",
    "                        print(f'Close transaction {i//2500}')\n",
    "                        batch = []\n",
    "\n",
    "#                 print(i)\n",
    "                batch.append(node)\n",
    "    \n",
    "    def close(self):\n",
    "        self.driver.close()"
   ]
  },
  {
   "cell_type": "code",
   "execution_count": 6,
   "id": "executive-sport",
   "metadata": {},
   "outputs": [],
   "source": [
    "class FileHandler(osmium.SimpleHandler):\n",
    "\n",
    "    def __init__(self, neoHandler):\n",
    "        super(FileHandler, self).__init__()\n",
    "        self.neoHandler = neoHandler\n",
    "\n",
    "    def node(self, n):\n",
    "        id = deepcopy(n.id)\n",
    "        lat, lon = deepcopy(str(n.location)).split('/')\n",
    "        node = GraphNode(n.id, lat, lon)\n",
    "        self.neoHandler.add_node(node)\n",
    "\n",
    "#     def way(self, w):\n",
    "#         print(w)\n",
    "\n",
    "#     def relation(self, r):\n",
    "#         print(r)\n"
   ]
  },
  {
   "cell_type": "code",
   "execution_count": 7,
   "id": "stunning-duplicate",
   "metadata": {
    "scrolled": true,
    "tags": [
     "outputPrepend"
    ]
   },
   "outputs": [
    {
     "ename": "NameError",
     "evalue": "name 'FileStatsHandler' is not defined",
     "output_type": "error",
     "traceback": [
      "\u001b[0;31m---------------------------------------------------------------------------\u001b[0m",
      "\u001b[0;31mNameError\u001b[0m                                 Traceback (most recent call last)",
      "\u001b[0;32m<timed exec>\u001b[0m in \u001b[0;36m<module>\u001b[0;34m\u001b[0m\n",
      "\u001b[0;31mNameError\u001b[0m: name 'FileStatsHandler' is not defined"
     ]
    }
   ],
   "source": [
    "%%time\n",
    "neoHandler = Neo4jHandler()\n",
    "h = FileHandler(neoHandler)\n",
    "\n",
    "h.apply_file(url, locations=True)\n",
    "\n",
    "neoHandler.create_objects()\n",
    "neoHandler.close()"
   ]
  },
  {
   "cell_type": "code",
   "execution_count": null,
   "id": "overhead-contract",
   "metadata": {},
   "outputs": [],
   "source": []
  }
 ],
 "metadata": {
  "kernelspec": {
   "display_name": "Python 3",
   "language": "python",
   "name": "python3"
  },
  "language_info": {
   "codemirror_mode": {
    "name": "ipython",
    "version": 3
   },
   "file_extension": ".py",
   "mimetype": "text/x-python",
   "name": "python",
   "nbconvert_exporter": "python",
   "pygments_lexer": "ipython3",
   "version": "3.9.2"
  }
 },
 "nbformat": 4,
 "nbformat_minor": 5
}
