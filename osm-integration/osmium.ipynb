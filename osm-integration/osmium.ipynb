{
 "cells": [
  {
   "cell_type": "code",
   "execution_count": 2,
   "id": "solved-architecture",
   "metadata": {
    "ExecuteTime": {
     "end_time": "2021-03-13T23:55:16.817791Z",
     "start_time": "2021-03-13T23:55:16.744636Z"
    }
   },
   "outputs": [],
   "source": [
    "import osmium\n",
    "import sys\n",
    "from neo4j import GraphDatabase, basic_auth, unit_of_work\n",
    "from copy import deepcopy\n",
    "from math import radians, cos, sin, asin, sqrt\n",
    "import os\n",
    "from dotenv import load_dotenv\n",
    "from time import time\n",
    "from utils import *"
   ]
  },
  {
   "cell_type": "code",
   "execution_count": null,
   "id": "olive-viking",
   "metadata": {},
   "outputs": [],
   "source": [
    "from logging import getLogger, StreamHandler, DEBUG\n",
    "handler = StreamHandler()\n",
    "handler.setLevel(DEBUG)\n",
    "getLogger(\"neo4j\").addHandler(handler)"
   ]
  },
  {
   "cell_type": "code",
   "execution_count": 12,
   "id": "earlier-robin",
   "metadata": {
    "ExecuteTime": {
     "end_time": "2021-03-13T23:55:16.820924Z",
     "start_time": "2021-03-13T23:55:16.819104Z"
    }
   },
   "outputs": [],
   "source": [
    "# url = 'http://download.geofabrik.de/europe/monaco-latest.osm.pbf'\n",
    "url = 'sofia_bulgaria.osm.pbf'"
   ]
  },
  {
   "cell_type": "code",
   "execution_count": 3,
   "id": "binary-routine",
   "metadata": {
    "ExecuteTime": {
     "end_time": "2021-03-13T23:55:16.828941Z",
     "start_time": "2021-03-13T23:55:16.822299Z"
    }
   },
   "outputs": [],
   "source": [
    "load_dotenv()\n",
    "driver = GraphDatabase.driver(os.getenv('CON_STRING'),\n",
    "                              auth=basic_auth(os.getenv('CON_USER'), os.getenv('CON_PASS')))"
   ]
  },
  {
   "cell_type": "code",
   "execution_count": 14,
   "id": "executive-sport",
   "metadata": {
    "ExecuteTime": {
     "end_time": "2021-03-13T23:55:16.847109Z",
     "start_time": "2021-03-13T23:55:16.843307Z"
    }
   },
   "outputs": [],
   "source": [
    "class FileHandler(osmium.SimpleHandler):\n",
    "    def __init__(self, neoHandler):\n",
    "        super(FileHandler, self).__init__()\n",
    "        self.neoHandler = neoHandler\n",
    "\n",
    "    def node(self, n):\n",
    "        node = GraphNode(n.id, n.location)\n",
    "        self.neoHandler.add_node(node)\n",
    "\n",
    "    def way(self, w):\n",
    "        if w.nodes[0].ref == w.nodes[-1].ref:\n",
    "            return\n",
    "        for i in range(len(w.nodes)-1):\n",
    "            start = GraphNode(w.nodes[i].ref, w.nodes[i].location)\n",
    "            end = GraphNode(w.nodes[i+1].ref, w.nodes[i+1].location)\n",
    "            distance = haversine(start, end)\n",
    "            edge = GraphEdge(start.node_id, end.node_id, distance, 4)\n",
    "            self.neoHandler.add_edge(edge)"
   ]
  },
  {
   "cell_type": "code",
   "execution_count": 28,
   "id": "written-token",
   "metadata": {
    "ExecuteTime": {
     "end_time": "2021-03-13T23:55:16.850407Z",
     "start_time": "2021-03-13T23:55:16.848010Z"
    }
   },
   "outputs": [],
   "source": [
    "def batch_nodes(session, nodes, batch_size=7500):\n",
    "    for i, batch in enumerate(split_list_to_batches(nodes, batch_size)):\n",
    "        if (i*batch_size >= 500000):\n",
    "            return\n",
    "        start_time = time()\n",
    "        print(f'Start node transaction {i:>3}')\n",
    "        session.run(f'''\n",
    "            FOREACH (\n",
    "                node IN {str(batch)} |\n",
    "                CREATE (\n",
    "                    :Node{{\n",
    "                        node_id:node.node_id,\n",
    "                        lat:node.lat,\n",
    "                        long:node.long\n",
    "                    }}\n",
    "                )\n",
    "            )\n",
    "        ''')\n",
    "        print(f'Close node transaction {i:>3} Elapsed time: {time()  - start_time:.2f} seconds')"
   ]
  },
  {
   "cell_type": "code",
   "execution_count": 29,
   "id": "loving-train",
   "metadata": {
    "ExecuteTime": {
     "end_time": "2021-03-13T23:55:16.853714Z",
     "start_time": "2021-03-13T23:55:16.851418Z"
    }
   },
   "outputs": [],
   "source": [
    "def batch_edges(session, edges, batch_size=200):\n",
    "    return\n",
    "    for i, batch in enumerate(split_list_to_batches(edges, batch_size)):\n",
    "        start_time = time()\n",
    "        print(f'Start edge transaction {i:>3}')\n",
    "        session.run(f'''\n",
    "            UNWIND {str(batch)} as edge\n",
    "            MATCH\n",
    "                (a: Node{{\n",
    "                    node_id: edge.start_node_id\n",
    "                }}),\n",
    "                (b: Node{{\n",
    "                    node_id: edge.end_node_id\n",
    "                }})\n",
    "            CREATE (a)-[r:Route {{\n",
    "                distance: edge.distance,\n",
    "                rating: edge.rating,\n",
    "                cost: edge.cost\n",
    "            }}]->(b)\n",
    "        ''')\n",
    "        print(f'Close edge transaction {i:>3} Elapsed time: {time() - start_time:.2f} seconds')"
   ]
  },
  {
   "cell_type": "code",
   "execution_count": 37,
   "id": "chinese-activity",
   "metadata": {
    "ExecuteTime": {
     "end_time": "2021-03-13T23:55:16.857654Z",
     "start_time": "2021-03-13T23:55:16.854559Z"
    }
   },
   "outputs": [],
   "source": [
    "class Neo4jHandler():\n",
    "    def __init__(self, driver):\n",
    "        self.driver = driver\n",
    "        self.nodes = []\n",
    "        self.edges = []\n",
    "\n",
    "    def add_node(self, node):\n",
    "        self.nodes.append(node)\n",
    "\n",
    "    def add_edge(self, edge):\n",
    "        self.edges.append(edge)\n",
    "\n",
    "    def create_objects(self):\n",
    "        with self.driver.session() as session:\n",
    "            batch_nodes(session, self.nodes, 7500)\n",
    "            batch_edges(session, self.edges)\n",
    "            self.close()\n",
    "\n",
    "    def close(self):\n",
    "        self.driver.close()"
   ]
  },
  {
   "cell_type": "code",
   "execution_count": 18,
   "id": "requested-fiction",
   "metadata": {
    "ExecuteTime": {
     "end_time": "2021-03-13T23:55:16.890446Z",
     "start_time": "2021-03-13T23:55:16.858642Z"
    },
    "scrolled": true,
    "tags": []
   },
   "outputs": [],
   "source": [
    "with driver.session() as session:\n",
    "    session.run('MATCH (n) DETACH DELETE n')"
   ]
  },
  {
   "cell_type": "code",
   "execution_count": 38,
   "id": "stunning-duplicate",
   "metadata": {
    "ExecuteTime": {
     "start_time": "2021-03-13T23:55:16.754Z"
    },
    "scrolled": true,
    "tags": []
   },
   "outputs": [
    {
     "ename": "RuntimeError",
     "evalue": "Way callback keeps reference to OSM object. This is not allowed.",
     "output_type": "error",
     "traceback": [
      "\u001b[0;31m---------------------------------------------------------------------------\u001b[0m",
      "\u001b[0;31mRuntimeError\u001b[0m                              Traceback (most recent call last)",
      "\u001b[0;32m<timed exec>\u001b[0m in \u001b[0;36m<module>\u001b[0;34m\u001b[0m\n",
      "\u001b[0;31mRuntimeError\u001b[0m: Way callback keeps reference to OSM object. This is not allowed."
     ]
    }
   ],
   "source": [
    "%%time\n",
    "neo_handler = Neo4jHandler(driver)\n",
    "h = FileHandler(neo_handler)\n",
    "\n",
    "h.apply_file(url, locations=True)\n",
    "print(f'Nodes: {len(neo_handler.nodes)}')\n",
    "print(f'Edges: {len(neo_handler.edges)}')\n",
    "\n",
    "neo_handler.create_objects()\n",
    "print('finished')"
   ]
  },
  {
   "cell_type": "code",
   "execution_count": null,
   "id": "explicit-shade",
   "metadata": {},
   "outputs": [],
   "source": []
  }
 ],
 "metadata": {
  "kernelspec": {
   "display_name": "Python 3",
   "language": "python",
   "name": "python3"
  },
  "language_info": {
   "codemirror_mode": {
    "name": "ipython",
    "version": 3
   },
   "file_extension": ".py",
   "mimetype": "text/x-python",
   "name": "python",
   "nbconvert_exporter": "python",
   "pygments_lexer": "ipython3",
   "version": "3.9.2"
  }
 },
 "nbformat": 4,
 "nbformat_minor": 5
}
