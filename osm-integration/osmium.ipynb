{
 "cells": [
  {
   "cell_type": "code",
   "execution_count": null,
   "id": "solved-architecture",
   "metadata": {
    "ExecuteTime": {
     "end_time": "2021-03-13T20:06:58.656412Z",
     "start_time": "2021-03-13T20:06:58.568228Z"
    }
   },
   "outputs": [],
   "source": [
    "import osmium\n",
    "import sys\n",
    "from neo4j import GraphDatabase, basic_auth, unit_of_work\n",
    "from copy import deepcopy\n",
    "from math import radians, cos, sin, asin, sqrt\n",
    "import os\n",
    "from dotenv import load_dotenv"
   ]
  },
  {
   "cell_type": "code",
   "execution_count": null,
   "id": "earlier-robin",
   "metadata": {
    "ExecuteTime": {
     "end_time": "2021-03-13T20:10:18.986720Z",
     "start_time": "2021-03-13T20:10:18.985010Z"
    }
   },
   "outputs": [],
   "source": [
    "# url = 'http://download.geofabrik.de/europe/monaco-latest.osm.pbf'\n",
    "url = 'sofia_bulgaria.osm.pbf'"
   ]
  },
  {
   "cell_type": "code",
   "execution_count": null,
   "id": "binary-routine",
   "metadata": {
    "ExecuteTime": {
     "end_time": "2021-03-13T20:41:45.449390Z",
     "start_time": "2021-03-13T20:41:45.426785Z"
    }
   },
   "outputs": [],
   "source": [
    "load_dotenv()\n",
    "driver = GraphDatabase.driver(os.getenv('CON_STRING'),\n",
    "                              auth=basic_auth(os.getenv('CON_USER'), os.getenv('CON_PASS')))"
   ]
  },
  {
   "cell_type": "code",
   "execution_count": null,
   "id": "overhead-fashion",
   "metadata": {
    "ExecuteTime": {
     "end_time": "2021-03-13T20:06:59.007050Z",
     "start_time": "2021-03-13T20:06:58.997217Z"
    }
   },
   "outputs": [],
   "source": [
    "class GraphNode:\n",
    "    def __init__(self, node_id, location):\n",
    "        self.node_id = deepcopy(node_id)\n",
    "        self.long, self.lat  = map(float, deepcopy(str(location)).split('/'))\n",
    "\n",
    "    def __repr__(self):\n",
    "        return f'{{node_id: {self.node_id}, lat: {self.lat}, long: {self.long}}}'"
   ]
  },
  {
   "cell_type": "code",
   "execution_count": null,
   "id": "convertible-sunglasses",
   "metadata": {
    "ExecuteTime": {
     "end_time": "2021-03-13T20:06:59.025087Z",
     "start_time": "2021-03-13T20:06:59.013717Z"
    }
   },
   "outputs": [],
   "source": [
    "class GraphEdge:\n",
    "    def __init__(self, start_node_id, end_node_id, distance, rating):\n",
    "        self.start_node_id = start_node_id\n",
    "        self.end_node_id = end_node_id\n",
    "        self.distance = distance\n",
    "        self.rating = rating\n",
    "        self.cost = distance / rating\n",
    "\n",
    "    def __repr__(self):\n",
    "        return f'{{start_node_id: {self.start_node_id}, end_node_id: {self.end_node_id}, distance: {self.distance}, rating: {self.rating}, cost: {self.cost}}}'"
   ]
  },
  {
   "cell_type": "code",
   "execution_count": null,
   "id": "usual-active",
   "metadata": {
    "ExecuteTime": {
     "end_time": "2021-03-13T20:06:59.032331Z",
     "start_time": "2021-03-13T20:06:59.028590Z"
    }
   },
   "outputs": [],
   "source": [
    "def split_list_to_batches(initial_list, batch_size = 4000):\n",
    "    for i in range(0, len(initial_list), batch_size):\n",
    "        yield initial_list[i:i + batch_size]"
   ]
  },
  {
   "cell_type": "code",
   "execution_count": null,
   "id": "cleared-norwegian",
   "metadata": {
    "ExecuteTime": {
     "end_time": "2021-03-13T20:06:59.038937Z",
     "start_time": "2021-03-13T20:06:59.034780Z"
    }
   },
   "outputs": [],
   "source": [
    "\n",
    "def haversine(node_a, node_b):\n",
    "    \"\"\"\n",
    "    Calculate the great circle distance between two points \n",
    "    on the earth (specified in decimal degrees)\n",
    "    \"\"\"\n",
    "    # convert decimal degrees to radians \n",
    "    lon1, lat1, lon2, lat2 = map(radians, [node_a.long, node_a.lat, node_b.long, node_b.lat])\n",
    "\n",
    "    # haversine formula \n",
    "    dlon = lon2 - lon1 \n",
    "    dlat = lat2 - lat1 \n",
    "    a = sin(dlat/2)**2 + cos(lat1) * cos(lat2) * sin(dlon/2)**2\n",
    "    c = 2 * asin(sqrt(a)) \n",
    "    r = 6371 # Radius of earth in kilometers. Use 3956 for miles\n",
    "    return c * r"
   ]
  },
  {
   "cell_type": "code",
   "execution_count": null,
   "id": "executive-sport",
   "metadata": {
    "ExecuteTime": {
     "end_time": "2021-03-13T20:06:59.046203Z",
     "start_time": "2021-03-13T20:06:59.040827Z"
    }
   },
   "outputs": [],
   "source": [
    "class FileHandler(osmium.SimpleHandler):\n",
    "    def __init__(self, neoHandler):\n",
    "        super(FileHandler, self).__init__()\n",
    "        self.neoHandler = neoHandler\n",
    "\n",
    "    def node(self, n):\n",
    "        node = GraphNode(n.id, n.location)\n",
    "        self.neoHandler.add_node(node)\n",
    "\n",
    "    def way(self, w):\n",
    "        if w.nodes[0].ref == w.nodes[-1].ref:\n",
    "            return\n",
    "        for i in range(len(w.nodes)-1):\n",
    "            start = GraphNode(w.nodes[i].ref, w.nodes[i].location)\n",
    "            end = GraphNode(w.nodes[i+1].ref, w.nodes[i+1].location)\n",
    "            distance = haversine(start, end)\n",
    "            edge = GraphEdge(start.node_id, end.node_id, distance, 4)\n",
    "            self.neoHandler.add_edge(edge)"
   ]
  },
  {
   "cell_type": "code",
   "execution_count": null,
   "id": "written-token",
   "metadata": {
    "ExecuteTime": {
     "end_time": "2021-03-13T20:06:59.050263Z",
     "start_time": "2021-03-13T20:06:59.047372Z"
    }
   },
   "outputs": [],
   "source": [
    "def batch_nodes(session, nodes, batch_size=10000):\n",
    "    for i, batch in enumerate(split_list_to_batches(nodes, batch_size)):\n",
    "        with session.begin_transaction() as tx:\n",
    "            print(f'Start node transaction {i}')\n",
    "            # batch_string_list = ','.join(map(lambda x: str(x), batch))\n",
    "            tx.run(f'''\n",
    "                FOREACH (\n",
    "                    node IN {batch} |\n",
    "                    CREATE (\n",
    "                        :Node{{\n",
    "                            node_id:node.node_id,\n",
    "                            lat:node.lat,\n",
    "                            long:node.long\n",
    "                        }}\n",
    "                    )\n",
    "                )\n",
    "            ''')\n",
    "            tx.commit()\n",
    "            print(f'Close node transaction {i}')"
   ]
  },
  {
   "cell_type": "code",
   "execution_count": null,
   "id": "loving-train",
   "metadata": {
    "ExecuteTime": {
     "end_time": "2021-03-13T20:06:59.054132Z",
     "start_time": "2021-03-13T20:06:59.051264Z"
    }
   },
   "outputs": [],
   "source": [
    "def batch_edges(session, edges, batch_size=100):\n",
    "    for i, batch in enumerate(split_list_to_batches(edges, batch_size)):\n",
    "        \n",
    "        with session.begin_transaction() as tx:\n",
    "            print(f'Start edge transaction {i}')\n",
    "            # batch_string_list = ','.join(map(lambda x: str(x), batch))\n",
    "            tx.run(f'''\n",
    "                UNWIND {str(batch)} as edge\n",
    "                MATCH\n",
    "                    (a: Node{{\n",
    "                        node_id: edge.start_node_id\n",
    "                    }}),\n",
    "                    (b: Node{{\n",
    "                        node_id: edge.end_node_id\n",
    "                    }})\n",
    "                CREATE (a)-[r:Route {{\n",
    "                    distance: edge.distance,\n",
    "                    rating: edge.rating,\n",
    "                    cost: edge.cost\n",
    "                }}]->(b)\n",
    "            ''')\n",
    "            tx.commit()\n",
    "            print(f'Close edge transaction {i}')"
   ]
  },
  {
   "cell_type": "code",
   "execution_count": null,
   "id": "chinese-activity",
   "metadata": {
    "ExecuteTime": {
     "end_time": "2021-03-13T20:06:59.057938Z",
     "start_time": "2021-03-13T20:06:59.055062Z"
    }
   },
   "outputs": [],
   "source": [
    "class Neo4jHandler():\n",
    "    def __init__(self):\n",
    "        self.driver = driver\n",
    "        self.nodes = []\n",
    "        self.edges = []\n",
    "\n",
    "    def add_node(self, node):\n",
    "        self.nodes.append(node)\n",
    "\n",
    "    def add_edge(self, edge):\n",
    "        self.edges.append(edge)\n",
    "\n",
    "    def create_objects(self):\n",
    "        with self.driver.session() as session:\n",
    "            batch_nodes(session, self.nodes)\n",
    "            batch_edges(session, self.edges)\n",
    "\n",
    "    def close(self):\n",
    "        self.driver.close()"
   ]
  },
  {
   "cell_type": "code",
   "execution_count": null,
   "id": "mediterranean-niger",
   "metadata": {
    "ExecuteTime": {
     "end_time": "2021-03-13T20:40:26.417953Z",
     "start_time": "2021-03-13T20:37:13.306738Z"
    },
    "tags": []
   },
   "outputs": [],
   "source": [
    "with driver.session() as session:\n",
    "    session.run('MATCH (n) DETACH DELETE n')"
   ]
  },
  {
   "cell_type": "code",
   "execution_count": null,
   "id": "stunning-duplicate",
   "metadata": {
    "ExecuteTime": {
     "end_time": "2021-03-13T20:40:26.424771Z",
     "start_time": "2021-03-13T20:38:37.090Z"
    },
    "scrolled": true,
    "tags": []
   },
   "outputs": [],
   "source": [
    "%%time\n",
    "neo_handler = Neo4jHandler()\n",
    "h = FileHandler(neo_handler)\n",
    "\n",
    "h.apply_file(url, locations=True)\n",
    "print(f'Nodes: {len(neo_handler.nodes)}')\n",
    "print(f'Edges: {len(neo_handler.edges)}')\n",
    "\n",
    "neo_handler.create_objects()\n",
    "neo_handler.close()\n",
    "print('finished')"
   ]
  },
  {
   "cell_type": "code",
   "execution_count": null,
   "id": "advance-clerk",
   "metadata": {},
   "outputs": [],
   "source": []
  }
 ],
 "metadata": {
  "kernelspec": {
   "display_name": "Python 3",
   "language": "python",
   "name": "python3"
  },
  "language_info": {
   "codemirror_mode": {
    "name": "ipython",
    "version": 3
   },
   "file_extension": ".py",
   "mimetype": "text/x-python",
   "name": "python",
   "nbconvert_exporter": "python",
   "pygments_lexer": "ipython3",
   "version": "3.9.2"
  }
 },
 "nbformat": 4,
 "nbformat_minor": 5
}
