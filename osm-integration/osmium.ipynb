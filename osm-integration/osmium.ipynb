{
 "cells": [
  {
   "cell_type": "code",
   "execution_count": 1,
   "id": "solved-architecture",
   "metadata": {
    "ExecuteTime": {
     "end_time": "2021-03-13T10:30:40.598708Z",
     "start_time": "2021-03-13T10:30:40.527788Z"
    }
   },
   "outputs": [],
   "source": [
    "import osmium\n",
    "import sys\n",
    "from neo4j import GraphDatabase, basic_auth, unit_of_work\n",
    "from copy import deepcopy"
   ]
  },
  {
   "cell_type": "code",
   "execution_count": 2,
   "id": "earlier-robin",
   "metadata": {
    "ExecuteTime": {
     "end_time": "2021-03-13T10:30:40.602285Z",
     "start_time": "2021-03-13T10:30:40.600275Z"
    }
   },
   "outputs": [],
   "source": [
    "url = 'http://download.geofabrik.de/europe/monaco-latest.osm.pbf'"
   ]
  },
  {
   "cell_type": "code",
   "execution_count": 3,
   "id": "binary-routine",
   "metadata": {
    "ExecuteTime": {
     "end_time": "2021-03-13T10:30:40.947087Z",
     "start_time": "2021-03-13T10:30:40.603566Z"
    }
   },
   "outputs": [],
   "source": [
    "driver = GraphDatabase.driver('bolt://54.167.190.221:7687',\n",
    "                              auth=basic_auth('neo4j', 'release-shows-breads'))"
   ]
  },
  {
   "cell_type": "code",
   "execution_count": 4,
   "id": "overhead-fashion",
   "metadata": {
    "ExecuteTime": {
     "end_time": "2021-03-13T10:30:40.966165Z",
     "start_time": "2021-03-13T10:30:40.952242Z"
    }
   },
   "outputs": [],
   "source": [
    "class GraphNode:\n",
    "    def __init__(self, node_id, lat, long):\n",
    "        self.node_id = node_id\n",
    "        self.lat = lat\n",
    "        self.long = long\n",
    "\n",
    "    def __repr__(self):\n",
    "        return f'{{node_id: {self.node_id}, lat: {self.lat}, long: {self.long}}}'"
   ]
  },
  {
   "cell_type": "code",
   "execution_count": 37,
   "id": "convertible-sunglasses",
   "metadata": {
    "ExecuteTime": {
     "end_time": "2021-03-13T11:33:00.891110Z",
     "start_time": "2021-03-13T11:33:00.881457Z"
    }
   },
   "outputs": [],
   "source": [
    "class GraphEdge:\n",
    "    def __init__(self, start_node_id, end_node_id, distance, rating):\n",
    "        self.start_node_id = start_node_id\n",
    "        self.end_node_id = end_node_id\n",
    "        self.distance = distance\n",
    "        self.rating = rating\n",
    "\n",
    "    def __repr__(self):\n",
    "        return f'{{start_node_id: {self.start_node_id}, end_node_id: {self.end_node_id}, distance: {self.distance}, rating: {self.rating}}}'"
   ]
  },
  {
   "cell_type": "code",
   "execution_count": 55,
   "id": "executive-sport",
   "metadata": {
    "ExecuteTime": {
     "end_time": "2021-03-13T12:03:36.078864Z",
     "start_time": "2021-03-13T12:03:36.072416Z"
    }
   },
   "outputs": [],
   "source": [
    "class FileHandler(osmium.SimpleHandler):\n",
    "    def __init__(self, neoHandler):\n",
    "        super(FileHandler, self).__init__()\n",
    "        self.neoHandler = neoHandler\n",
    "\n",
    "    def node(self, n):\n",
    "        id = deepcopy(n.id)\n",
    "        lat, long = deepcopy(str(n.location)).split('/')\n",
    "        node = GraphNode(n.id, lat, long)\n",
    "        self.neoHandler.add_node(node)\n",
    "\n",
    "    def way(self, w):\n",
    "        if w.nodes[0].ref == w.nodes[-1].ref:\n",
    "            return\n",
    "        for i in range(len(w.nodes)-1):\n",
    "            distance = osmium.geom.haversine_distance(w.nodes[i:i+1])\n",
    "            edge = GraphEdge(w.nodes[i].ref, w.nodes[i+1].ref, distance, 4)\n",
    "            self.neoHandler.add_edge(edge)"
   ]
  },
  {
   "cell_type": "code",
   "execution_count": 30,
   "id": "written-token",
   "metadata": {
    "ExecuteTime": {
     "end_time": "2021-03-13T11:28:42.203037Z",
     "start_time": "2021-03-13T11:28:42.200048Z"
    }
   },
   "outputs": [],
   "source": [
    "def batch_nodes(session, nodes, batch_size=4000):\n",
    "    batch = []\n",
    "    print('start nodes')\n",
    "    for i, node in enumerate(nodes):\n",
    "        if (i % batch_size == 0 and len(batch) > 0) or i == len(nodes) - 1:\n",
    "            with session.begin_transaction() as tx:\n",
    "                tx.run(\n",
    "                    f'''FOREACH (node IN [{','.join(map(lambda x: str(x), batch))}] |\n",
    "                       CREATE (:Node{{node_id:node.node_id,lat:node.lat,long:node.long}}))'''\n",
    "                )\n",
    "                tx.commit()\n",
    "                print(f'Close transaction {i//batch_size}')\n",
    "                batch = []\n",
    "                continue\n",
    "        batch.append(node)"
   ]
  },
  {
   "cell_type": "code",
   "execution_count": 49,
   "id": "loving-train",
   "metadata": {
    "ExecuteTime": {
     "end_time": "2021-03-13T11:58:40.294331Z",
     "start_time": "2021-03-13T11:58:40.291391Z"
    }
   },
   "outputs": [],
   "source": [
    "def batch_edges(session, edges, batch_size=4000):\n",
    "    batch = []\n",
    "    print('start relations')\n",
    "    for i, edge in enumerate(edges):\n",
    "        if (i % batch_size == 0 and len(batch) > 0) or i == len(edges) - 1:\n",
    "            print('begining transaction')\n",
    "            with session.begin_transaction() as tx:\n",
    "                tx.run(\n",
    "                    f'''FOREACH (edge IN [{','.join(map(lambda x: str(x), batch))}] |\n",
    "                    MATCH (a: Node),(b: Node)\n",
    "                    WHERE a.node_id=edge.start_node_id AND b.node_id=edge.end_node_id\n",
    "                    CREATE (a)-[r:Route {{\n",
    "                    distance:edge.distance,\n",
    "                    rating:edge.rating\n",
    "                    }}])->(b)''')\n",
    "                tx.commit()\n",
    "                print(f'Close transaction {i//batch_size}')\n",
    "                batch = []\n",
    "                continue\n",
    "\n",
    "        batch.append(edge)"
   ]
  },
  {
   "cell_type": "code",
   "execution_count": 45,
   "id": "chinese-activity",
   "metadata": {
    "ExecuteTime": {
     "end_time": "2021-03-13T11:34:48.892887Z",
     "start_time": "2021-03-13T11:34:48.889917Z"
    }
   },
   "outputs": [],
   "source": [
    "class Neo4jHandler():\n",
    "    def __init__(self):\n",
    "        self.driver = driver\n",
    "        self.nodes = []\n",
    "        self.edges = []\n",
    "\n",
    "    def add_node(self, node):\n",
    "        self.nodes.append(node)\n",
    "\n",
    "    def add_edge(self, edge):\n",
    "        self.edges.append(edge)\n",
    "\n",
    "    def create_objects(self):\n",
    "        with self.driver.session() as session:\n",
    "            batch_nodes(session, self.nodes)\n",
    "            batch_edges(session, self.edges)\n",
    "\n",
    "    def close(self):\n",
    "        self.driver.close()"
   ]
  },
  {
   "cell_type": "code",
   "execution_count": 56,
   "id": "closed-dream",
   "metadata": {
    "ExecuteTime": {
     "end_time": "2021-03-13T12:05:25.928283Z",
     "start_time": "2021-03-13T12:05:22.711152Z"
    },
    "tags": [
     "outputPrepend"
    ]
   },
   "outputs": [],
   "source": [
    "with driver.session() as session:\n",
    "    session.run('MATCH (n) DETACH DELETE n')"
   ]
  },
  {
   "cell_type": "code",
   "execution_count": 57,
   "id": "stunning-duplicate",
   "metadata": {
    "ExecuteTime": {
     "end_time": "2021-03-13T12:05:26.254933Z",
     "start_time": "2021-03-13T12:05:25.933351Z"
    },
    "scrolled": true,
    "tags": [
     "outputPrepend"
    ]
   },
   "outputs": [
    {
     "ename": "TypeError",
     "evalue": "__getitem__(): incompatible function arguments. The following argument types are supported:\n    1. (self: osmium.osm._osm.NodeRefList, arg0: int) -> osmium.osm._osm.NodeRef\n\nInvoked with: osmium.osm.WayNodeList([osmium.osm.NodeRef(ref=21912089, location=osmium.osm.Location(x=74259518, y=437389494)), osmium.osm.NodeRef(ref=7265761724, location=osmium.osm.Location(x=74258602, y=437389997)), osmium.osm.NodeRef(ref=1079750744, location=osmium.osm.Location(x=74257964, y=437390370)), osmium.osm.NodeRef(ref=2104793864, location=osmium.osm.Location(x=74257430, y=437390849)), osmium.osm.NodeRef(ref=6340961560, location=osmium.osm.Location(x=74257083, y=437391243)), osmium.osm.NodeRef(ref=1110560507, location=osmium.osm.Location(x=74256818, y=437391636)), osmium.osm.NodeRef(ref=21912093, location=osmium.osm.Location(x=74256611, y=437392238)), osmium.osm.NodeRef(ref=6340961559, location=osmium.osm.Location(x=74256536, y=437392768)), osmium.osm.NodeRef(ref=21912095, location=osmium.osm.Location(x=74256563, y=437393298)), osmium.osm.NodeRef(ref=7265762803, location=osmium.osm.Location(x=74256802, y=437393746)), osmium.osm.NodeRef(ref=2104793866, location=osmium.osm.Location(x=74257083, y=437394273)), osmium.osm.NodeRef(ref=6340961561, location=osmium.osm.Location(x=74257117, y=437394671)), osmium.osm.NodeRef(ref=5603088200, location=osmium.osm.Location(x=74256947, y=437395025)), osmium.osm.NodeRef(ref=6340961562, location=osmium.osm.Location(x=74256666, y=437395255)), osmium.osm.NodeRef(ref=21912097, location=osmium.osm.Location(x=74256203, y=437395471)), osmium.osm.NodeRef(ref=21912099, location=osmium.osm.Location(x=74251395, y=437397104))]), slice(0, 1, None)",
     "output_type": "error",
     "traceback": [
      "\u001b[0;31m---------------------------------------------------------------------------\u001b[0m",
      "\u001b[0;31mTypeError\u001b[0m                                 Traceback (most recent call last)",
      "\u001b[0;32m<ipython-input-57-81e396e41fa2>\u001b[0m in \u001b[0;36m<module>\u001b[0;34m\u001b[0m\n\u001b[1;32m      2\u001b[0m \u001b[0mh\u001b[0m \u001b[0;34m=\u001b[0m \u001b[0mFileHandler\u001b[0m\u001b[0;34m(\u001b[0m\u001b[0mneoHandler\u001b[0m\u001b[0;34m)\u001b[0m\u001b[0;34m\u001b[0m\u001b[0;34m\u001b[0m\u001b[0m\n\u001b[1;32m      3\u001b[0m \u001b[0;34m\u001b[0m\u001b[0m\n\u001b[0;32m----> 4\u001b[0;31m \u001b[0mh\u001b[0m\u001b[0;34m.\u001b[0m\u001b[0mapply_file\u001b[0m\u001b[0;34m(\u001b[0m\u001b[0murl\u001b[0m\u001b[0;34m,\u001b[0m \u001b[0mlocations\u001b[0m\u001b[0;34m=\u001b[0m\u001b[0;32mTrue\u001b[0m\u001b[0;34m)\u001b[0m\u001b[0;34m\u001b[0m\u001b[0;34m\u001b[0m\u001b[0m\n\u001b[0m\u001b[1;32m      5\u001b[0m \u001b[0mprint\u001b[0m\u001b[0;34m(\u001b[0m\u001b[0;34mf'Nodes: {len(neoHandler.nodes)}'\u001b[0m\u001b[0;34m)\u001b[0m\u001b[0;34m\u001b[0m\u001b[0;34m\u001b[0m\u001b[0m\n\u001b[1;32m      6\u001b[0m \u001b[0;34m\u001b[0m\u001b[0m\n",
      "\u001b[0;32m<ipython-input-55-b7af58799cc9>\u001b[0m in \u001b[0;36mway\u001b[0;34m(self, w)\u001b[0m\n\u001b[1;32m     14\u001b[0m             \u001b[0;32mreturn\u001b[0m\u001b[0;34m\u001b[0m\u001b[0;34m\u001b[0m\u001b[0m\n\u001b[1;32m     15\u001b[0m         \u001b[0;32mfor\u001b[0m \u001b[0mi\u001b[0m \u001b[0;32min\u001b[0m \u001b[0mrange\u001b[0m\u001b[0;34m(\u001b[0m\u001b[0mlen\u001b[0m\u001b[0;34m(\u001b[0m\u001b[0mw\u001b[0m\u001b[0;34m.\u001b[0m\u001b[0mnodes\u001b[0m\u001b[0;34m)\u001b[0m\u001b[0;34m-\u001b[0m\u001b[0;36m1\u001b[0m\u001b[0;34m)\u001b[0m\u001b[0;34m:\u001b[0m\u001b[0;34m\u001b[0m\u001b[0;34m\u001b[0m\u001b[0m\n\u001b[0;32m---> 16\u001b[0;31m             \u001b[0mdistance\u001b[0m \u001b[0;34m=\u001b[0m \u001b[0mosmium\u001b[0m\u001b[0;34m.\u001b[0m\u001b[0mgeom\u001b[0m\u001b[0;34m.\u001b[0m\u001b[0mhaversine_distance\u001b[0m\u001b[0;34m(\u001b[0m\u001b[0mw\u001b[0m\u001b[0;34m.\u001b[0m\u001b[0mnodes\u001b[0m\u001b[0;34m[\u001b[0m\u001b[0mi\u001b[0m\u001b[0;34m:\u001b[0m\u001b[0mi\u001b[0m\u001b[0;34m+\u001b[0m\u001b[0;36m1\u001b[0m\u001b[0;34m]\u001b[0m\u001b[0;34m)\u001b[0m\u001b[0;34m\u001b[0m\u001b[0;34m\u001b[0m\u001b[0m\n\u001b[0m\u001b[1;32m     17\u001b[0m             \u001b[0medge\u001b[0m \u001b[0;34m=\u001b[0m \u001b[0mGraphEdge\u001b[0m\u001b[0;34m(\u001b[0m\u001b[0mw\u001b[0m\u001b[0;34m.\u001b[0m\u001b[0mnodes\u001b[0m\u001b[0;34m[\u001b[0m\u001b[0mi\u001b[0m\u001b[0;34m]\u001b[0m\u001b[0;34m.\u001b[0m\u001b[0mref\u001b[0m\u001b[0;34m,\u001b[0m \u001b[0mw\u001b[0m\u001b[0;34m.\u001b[0m\u001b[0mnodes\u001b[0m\u001b[0;34m[\u001b[0m\u001b[0mi\u001b[0m\u001b[0;34m+\u001b[0m\u001b[0;36m1\u001b[0m\u001b[0;34m]\u001b[0m\u001b[0;34m.\u001b[0m\u001b[0mref\u001b[0m\u001b[0;34m,\u001b[0m \u001b[0mdistance\u001b[0m\u001b[0;34m,\u001b[0m \u001b[0;36m4\u001b[0m\u001b[0;34m)\u001b[0m\u001b[0;34m\u001b[0m\u001b[0;34m\u001b[0m\u001b[0m\n\u001b[1;32m     18\u001b[0m             \u001b[0mself\u001b[0m\u001b[0;34m.\u001b[0m\u001b[0mneoHandler\u001b[0m\u001b[0;34m.\u001b[0m\u001b[0madd_edge\u001b[0m\u001b[0;34m(\u001b[0m\u001b[0medge\u001b[0m\u001b[0;34m)\u001b[0m\u001b[0;34m\u001b[0m\u001b[0;34m\u001b[0m\u001b[0m\n",
      "\u001b[0;31mTypeError\u001b[0m: __getitem__(): incompatible function arguments. The following argument types are supported:\n    1. (self: osmium.osm._osm.NodeRefList, arg0: int) -> osmium.osm._osm.NodeRef\n\nInvoked with: osmium.osm.WayNodeList([osmium.osm.NodeRef(ref=21912089, location=osmium.osm.Location(x=74259518, y=437389494)), osmium.osm.NodeRef(ref=7265761724, location=osmium.osm.Location(x=74258602, y=437389997)), osmium.osm.NodeRef(ref=1079750744, location=osmium.osm.Location(x=74257964, y=437390370)), osmium.osm.NodeRef(ref=2104793864, location=osmium.osm.Location(x=74257430, y=437390849)), osmium.osm.NodeRef(ref=6340961560, location=osmium.osm.Location(x=74257083, y=437391243)), osmium.osm.NodeRef(ref=1110560507, location=osmium.osm.Location(x=74256818, y=437391636)), osmium.osm.NodeRef(ref=21912093, location=osmium.osm.Location(x=74256611, y=437392238)), osmium.osm.NodeRef(ref=6340961559, location=osmium.osm.Location(x=74256536, y=437392768)), osmium.osm.NodeRef(ref=21912095, location=osmium.osm.Location(x=74256563, y=437393298)), osmium.osm.NodeRef(ref=7265762803, location=osmium.osm.Location(x=74256802, y=437393746)), osmium.osm.NodeRef(ref=2104793866, location=osmium.osm.Location(x=74257083, y=437394273)), osmium.osm.NodeRef(ref=6340961561, location=osmium.osm.Location(x=74257117, y=437394671)), osmium.osm.NodeRef(ref=5603088200, location=osmium.osm.Location(x=74256947, y=437395025)), osmium.osm.NodeRef(ref=6340961562, location=osmium.osm.Location(x=74256666, y=437395255)), osmium.osm.NodeRef(ref=21912097, location=osmium.osm.Location(x=74256203, y=437395471)), osmium.osm.NodeRef(ref=21912099, location=osmium.osm.Location(x=74251395, y=437397104))]), slice(0, 1, None)"
     ]
    }
   ],
   "source": [
    "neoHandler = Neo4jHandler()\n",
    "h = FileHandler(neoHandler)\n",
    "\n",
    "h.apply_file(url, locations=True)\n",
    "print(f'Nodes: {len(neoHandler.nodes)}')\n",
    "\n",
    "neoHandler.create_objects()\n",
    "neoHandler.close()\n",
    "print('finished')"
   ]
  },
  {
   "cell_type": "markdown",
   "id": "vocational-westminster",
   "metadata": {
    "ExecuteTime": {
     "end_time": "2021-03-12T18:08:12.885638Z",
     "start_time": "2021-03-12T18:08:05.437803Z"
    }
   },
   "source": [
    "nodes = []\n",
    "with driver.session() as session:\n",
    "    result = session.run('MATCH (n:Node) return n')\n",
    "    for record in result:\n",
    "        nodes.append([record[0].get('lat'), record[0].get('long')])"
   ]
  },
  {
   "cell_type": "markdown",
   "id": "racial-daughter",
   "metadata": {
    "ExecuteTime": {
     "end_time": "2021-03-12T18:08:13.170017Z",
     "start_time": "2021-03-12T18:08:12.890024Z"
    }
   },
   "source": [
    "import numpy as np\n",
    "\n",
    "\n",
    "def closest_node(node, nodes):\n",
    "    nodes = np.asarray(nodes)\n",
    "    deltas = nodes - node\n",
    "    dist_2 = np.einsum('ij,ij->i', deltas, deltas)\n",
    "    return np.argmin(dist_2)"
   ]
  },
  {
   "cell_type": "markdown",
   "id": "suitable-summary",
   "metadata": {
    "ExecuteTime": {
     "end_time": "2021-03-12T18:08:13.205679Z",
     "start_time": "2021-03-12T18:08:13.202678Z"
    }
   },
   "source": [
    "arr = np.array([[10, 2], [12, -2], [3, 8]])\n",
    "err = (arr - np.array([12, 4]))**2\n",
    "delta = np.sum(err, axis=1)\n",
    "pos = np.argmin(delta)\n",
    "print(err, delta, pos)"
   ]
  },
  {
   "cell_type": "code",
   "execution_count": null,
   "id": "convinced-reggae",
   "metadata": {},
   "outputs": [],
   "source": []
  }
 ],
 "metadata": {
  "kernelspec": {
   "display_name": "Python 3",
   "language": "python",
   "name": "python3"
  },
  "language_info": {
   "codemirror_mode": {
    "name": "ipython",
    "version": 3
   },
   "file_extension": ".py",
   "mimetype": "text/x-python",
   "name": "python",
   "nbconvert_exporter": "python",
   "pygments_lexer": "ipython3",
   "version": "3.9.2"
  }
 },
 "nbformat": 4,
 "nbformat_minor": 5
}
