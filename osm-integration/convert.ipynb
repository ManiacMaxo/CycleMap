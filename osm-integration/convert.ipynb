{
 "cells": [
  {
   "cell_type": "code",
   "execution_count": 1,
   "id": "technical-child",
   "metadata": {
    "ExecuteTime": {
     "end_time": "2021-03-13T20:11:50.939903Z",
     "start_time": "2021-03-13T20:11:50.934056Z"
    }
   },
   "outputs": [],
   "source": [
    "import osmium as o\n",
    "\n",
    "import sys"
   ]
  },
  {
   "cell_type": "code",
   "execution_count": 2,
   "id": "specified-shepherd",
   "metadata": {
    "ExecuteTime": {
     "end_time": "2021-03-13T20:11:51.075842Z",
     "start_time": "2021-03-13T20:11:51.071557Z"
    }
   },
   "outputs": [],
   "source": [
    "class Convert(o.SimpleHandler):\n",
    "\n",
    "    def __init__(self, writer):\n",
    "        super(Convert, self).__init__()\n",
    "        self.writer = writer\n",
    "\n",
    "    def node(self, n):\n",
    "        self.writer.add_node(n)\n",
    "\n",
    "    def way(self, w):\n",
    "        self.writer.add_way(w)\n",
    "\n",
    "    def relation(self, r):\n",
    "        self.writer.add_relation(r)"
   ]
  },
  {
   "cell_type": "code",
   "execution_count": 3,
   "id": "settled-immigration",
   "metadata": {
    "ExecuteTime": {
     "end_time": "2021-03-13T20:11:51.205768Z",
     "start_time": "2021-03-13T20:11:51.201419Z"
    }
   },
   "outputs": [],
   "source": [
    "in_file = 'sofia_bulgaria.osm.pbf'\n",
    "out_file = 'sofia.osm'"
   ]
  },
  {
   "cell_type": "code",
   "execution_count": 4,
   "id": "light-margin",
   "metadata": {
    "ExecuteTime": {
     "end_time": "2021-03-13T20:11:53.927168Z",
     "start_time": "2021-03-13T20:11:51.335564Z"
    }
   },
   "outputs": [],
   "source": [
    "writer = o.SimpleWriter(out_file)\n",
    "handler = Convert(writer)\n",
    "\n",
    "handler.apply_file(in_file)\n",
    "writer.close()"
   ]
  },
  {
   "cell_type": "code",
   "execution_count": null,
   "id": "sunrise-mining",
   "metadata": {},
   "outputs": [],
   "source": []
  }
 ],
 "metadata": {
  "kernelspec": {
   "display_name": "Python 3",
   "language": "python",
   "name": "python3"
  },
  "language_info": {
   "codemirror_mode": {
    "name": "ipython",
    "version": 3
   },
   "file_extension": ".py",
   "mimetype": "text/x-python",
   "name": "python",
   "nbconvert_exporter": "python",
   "pygments_lexer": "ipython3",
   "version": "3.9.2"
  }
 },
 "nbformat": 4,
 "nbformat_minor": 5
}
